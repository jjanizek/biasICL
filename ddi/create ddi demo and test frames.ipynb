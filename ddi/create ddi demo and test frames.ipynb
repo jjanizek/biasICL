{
 "cells": [
  {
   "cell_type": "code",
   "execution_count": 10,
   "id": "bd459e4f",
   "metadata": {},
   "outputs": [],
   "source": [
    "import pandas as pd\n",
    "import numpy as np\n",
    "from sklearn.model_selection import train_test_split"
   ]
  },
  {
   "cell_type": "code",
   "execution_count": 31,
   "id": "5725b696",
   "metadata": {},
   "outputs": [],
   "source": [
    "ddi_md = pd.read_csv('/home/joseph/datasets/ddi/ddidiversedermatologyimages/ddi_metadata.csv',index_col=0)"
   ]
  },
  {
   "cell_type": "code",
   "execution_count": 32,
   "id": "a4457434",
   "metadata": {},
   "outputs": [],
   "source": [
    "fst56 = ddi_md[ddi_md.skin_tone==56]\n",
    "fst12 = ddi_md[ddi_md.skin_tone==12]"
   ]
  },
  {
   "cell_type": "code",
   "execution_count": 33,
   "id": "c0b43353",
   "metadata": {},
   "outputs": [
    {
     "data": {
      "text/plain": [
       "(np.float64(0.23557692307692307), np.float64(0.2318840579710145))"
      ]
     },
     "execution_count": 33,
     "metadata": {},
     "output_type": "execute_result"
    }
   ],
   "source": [
    "fst12.malignant.mean(),fst56.malignant.mean()"
   ]
  },
  {
   "cell_type": "code",
   "execution_count": 34,
   "id": "8f057759",
   "metadata": {},
   "outputs": [],
   "source": [
    "fst56_demo, fst56_test = train_test_split(fst56,test_size=0.25,random_state=54)\n",
    "fst12_demo, fst12_test = train_test_split(fst12,test_size=0.25,random_state=54)"
   ]
  },
  {
   "cell_type": "code",
   "execution_count": 35,
   "id": "18af7515",
   "metadata": {},
   "outputs": [],
   "source": [
    "ddi_test = pd.concat([fst56_test,fst12_test])"
   ]
  },
  {
   "cell_type": "code",
   "execution_count": 37,
   "id": "e51f93f1",
   "metadata": {},
   "outputs": [],
   "source": [
    "ddi_test.to_csv('ddi_test_metadata.csv')"
   ]
  },
  {
   "cell_type": "code",
   "execution_count": 51,
   "id": "0810c352",
   "metadata": {},
   "outputs": [
    {
     "data": {
      "text/html": [
       "<div>\n",
       "<style scoped>\n",
       "    .dataframe tbody tr th:only-of-type {\n",
       "        vertical-align: middle;\n",
       "    }\n",
       "\n",
       "    .dataframe tbody tr th {\n",
       "        vertical-align: top;\n",
       "    }\n",
       "\n",
       "    .dataframe thead th {\n",
       "        text-align: right;\n",
       "    }\n",
       "</style>\n",
       "<table border=\"1\" class=\"dataframe\">\n",
       "  <thead>\n",
       "    <tr style=\"text-align: right;\">\n",
       "      <th></th>\n",
       "      <th>DDI_ID</th>\n",
       "      <th>DDI_file</th>\n",
       "      <th>skin_tone</th>\n",
       "      <th>malignant</th>\n",
       "      <th>disease</th>\n",
       "    </tr>\n",
       "  </thead>\n",
       "  <tbody>\n",
       "    <tr>\n",
       "      <th>14</th>\n",
       "      <td>15</td>\n",
       "      <td>000015.png</td>\n",
       "      <td>56</td>\n",
       "      <td>True</td>\n",
       "      <td>squamous-cell-carcinoma</td>\n",
       "    </tr>\n",
       "    <tr>\n",
       "      <th>161</th>\n",
       "      <td>162</td>\n",
       "      <td>000162.png</td>\n",
       "      <td>56</td>\n",
       "      <td>True</td>\n",
       "      <td>melanoma</td>\n",
       "    </tr>\n",
       "    <tr>\n",
       "      <th>88</th>\n",
       "      <td>89</td>\n",
       "      <td>000089.png</td>\n",
       "      <td>56</td>\n",
       "      <td>False</td>\n",
       "      <td>verruca-vulgaris</td>\n",
       "    </tr>\n",
       "    <tr>\n",
       "      <th>175</th>\n",
       "      <td>176</td>\n",
       "      <td>000176.png</td>\n",
       "      <td>56</td>\n",
       "      <td>False</td>\n",
       "      <td>acrochordon</td>\n",
       "    </tr>\n",
       "    <tr>\n",
       "      <th>152</th>\n",
       "      <td>153</td>\n",
       "      <td>000153.png</td>\n",
       "      <td>56</td>\n",
       "      <td>False</td>\n",
       "      <td>seborrheic-keratosis</td>\n",
       "    </tr>\n",
       "    <tr>\n",
       "      <th>...</th>\n",
       "      <td>...</td>\n",
       "      <td>...</td>\n",
       "      <td>...</td>\n",
       "      <td>...</td>\n",
       "      <td>...</td>\n",
       "    </tr>\n",
       "    <tr>\n",
       "      <th>409</th>\n",
       "      <td>410</td>\n",
       "      <td>000410.png</td>\n",
       "      <td>12</td>\n",
       "      <td>True</td>\n",
       "      <td>squamous-cell-carcinoma-in-situ</td>\n",
       "    </tr>\n",
       "    <tr>\n",
       "      <th>421</th>\n",
       "      <td>422</td>\n",
       "      <td>000422.png</td>\n",
       "      <td>12</td>\n",
       "      <td>False</td>\n",
       "      <td>molluscum-contagiosum</td>\n",
       "    </tr>\n",
       "    <tr>\n",
       "      <th>276</th>\n",
       "      <td>277</td>\n",
       "      <td>000277.png</td>\n",
       "      <td>12</td>\n",
       "      <td>False</td>\n",
       "      <td>melanocytic-nevi</td>\n",
       "    </tr>\n",
       "    <tr>\n",
       "      <th>42</th>\n",
       "      <td>43</td>\n",
       "      <td>000043.png</td>\n",
       "      <td>12</td>\n",
       "      <td>True</td>\n",
       "      <td>melanoma-acral-lentiginous</td>\n",
       "    </tr>\n",
       "    <tr>\n",
       "      <th>356</th>\n",
       "      <td>357</td>\n",
       "      <td>000357.png</td>\n",
       "      <td>12</td>\n",
       "      <td>False</td>\n",
       "      <td>seborrheic-keratosis</td>\n",
       "    </tr>\n",
       "  </tbody>\n",
       "</table>\n",
       "<p>104 rows × 5 columns</p>\n",
       "</div>"
      ],
      "text/plain": [
       "     DDI_ID    DDI_file  skin_tone  malignant                          disease\n",
       "14       15  000015.png         56       True          squamous-cell-carcinoma\n",
       "161     162  000162.png         56       True                         melanoma\n",
       "88       89  000089.png         56      False                 verruca-vulgaris\n",
       "175     176  000176.png         56      False                      acrochordon\n",
       "152     153  000153.png         56      False             seborrheic-keratosis\n",
       "..      ...         ...        ...        ...                              ...\n",
       "409     410  000410.png         12       True  squamous-cell-carcinoma-in-situ\n",
       "421     422  000422.png         12      False            molluscum-contagiosum\n",
       "276     277  000277.png         12      False                 melanocytic-nevi\n",
       "42       43  000043.png         12       True       melanoma-acral-lentiginous\n",
       "356     357  000357.png         12      False             seborrheic-keratosis\n",
       "\n",
       "[104 rows x 5 columns]"
      ]
     },
     "execution_count": 51,
     "metadata": {},
     "output_type": "execute_result"
    }
   ],
   "source": [
    "ddi_test"
   ]
  },
  {
   "cell_type": "code",
   "execution_count": 50,
   "id": "84060542",
   "metadata": {},
   "outputs": [],
   "source": [
    "ddi_demo = pd.concat([fst56_demo,fst12_demo])\n",
    "ddi_demo.to_csv('ddi_demo_metadata.csv')"
   ]
  },
  {
   "cell_type": "code",
   "execution_count": 69,
   "id": "481ac8b2",
   "metadata": {},
   "outputs": [
    {
     "data": {
      "text/html": [
       "<div>\n",
       "<style scoped>\n",
       "    .dataframe tbody tr th:only-of-type {\n",
       "        vertical-align: middle;\n",
       "    }\n",
       "\n",
       "    .dataframe tbody tr th {\n",
       "        vertical-align: top;\n",
       "    }\n",
       "\n",
       "    .dataframe thead th {\n",
       "        text-align: right;\n",
       "    }\n",
       "</style>\n",
       "<table border=\"1\" class=\"dataframe\">\n",
       "  <thead>\n",
       "    <tr style=\"text-align: right;\">\n",
       "      <th></th>\n",
       "      <th>DDI_ID</th>\n",
       "      <th>DDI_file</th>\n",
       "      <th>skin_tone</th>\n",
       "      <th>malignant</th>\n",
       "      <th>disease</th>\n",
       "    </tr>\n",
       "  </thead>\n",
       "  <tbody>\n",
       "    <tr>\n",
       "      <th>160</th>\n",
       "      <td>161</td>\n",
       "      <td>000161.png</td>\n",
       "      <td>56</td>\n",
       "      <td>False</td>\n",
       "      <td>seborrheic-keratosis-irritated</td>\n",
       "    </tr>\n",
       "    <tr>\n",
       "      <th>151</th>\n",
       "      <td>152</td>\n",
       "      <td>000152.png</td>\n",
       "      <td>56</td>\n",
       "      <td>False</td>\n",
       "      <td>melanocytic-nevi</td>\n",
       "    </tr>\n",
       "    <tr>\n",
       "      <th>245</th>\n",
       "      <td>246</td>\n",
       "      <td>000246.png</td>\n",
       "      <td>56</td>\n",
       "      <td>False</td>\n",
       "      <td>neurofibroma</td>\n",
       "    </tr>\n",
       "    <tr>\n",
       "      <th>178</th>\n",
       "      <td>179</td>\n",
       "      <td>000179.png</td>\n",
       "      <td>56</td>\n",
       "      <td>False</td>\n",
       "      <td>dermatofibroma</td>\n",
       "    </tr>\n",
       "    <tr>\n",
       "      <th>103</th>\n",
       "      <td>104</td>\n",
       "      <td>000104.png</td>\n",
       "      <td>56</td>\n",
       "      <td>False</td>\n",
       "      <td>seborrheic-keratosis</td>\n",
       "    </tr>\n",
       "    <tr>\n",
       "      <th>...</th>\n",
       "      <td>...</td>\n",
       "      <td>...</td>\n",
       "      <td>...</td>\n",
       "      <td>...</td>\n",
       "      <td>...</td>\n",
       "    </tr>\n",
       "    <tr>\n",
       "      <th>243</th>\n",
       "      <td>244</td>\n",
       "      <td>000244.png</td>\n",
       "      <td>12</td>\n",
       "      <td>True</td>\n",
       "      <td>squamous-cell-carcinoma</td>\n",
       "    </tr>\n",
       "    <tr>\n",
       "      <th>50</th>\n",
       "      <td>51</td>\n",
       "      <td>000051.png</td>\n",
       "      <td>12</td>\n",
       "      <td>False</td>\n",
       "      <td>melanocytic-nevi</td>\n",
       "    </tr>\n",
       "    <tr>\n",
       "      <th>358</th>\n",
       "      <td>359</td>\n",
       "      <td>000359.png</td>\n",
       "      <td>12</td>\n",
       "      <td>True</td>\n",
       "      <td>squamous-cell-carcinoma-keratoacanthoma</td>\n",
       "    </tr>\n",
       "    <tr>\n",
       "      <th>296</th>\n",
       "      <td>297</td>\n",
       "      <td>000297.png</td>\n",
       "      <td>12</td>\n",
       "      <td>True</td>\n",
       "      <td>squamous-cell-carcinoma-in-situ</td>\n",
       "    </tr>\n",
       "    <tr>\n",
       "      <th>339</th>\n",
       "      <td>340</td>\n",
       "      <td>000340.png</td>\n",
       "      <td>12</td>\n",
       "      <td>False</td>\n",
       "      <td>verruca-vulgaris</td>\n",
       "    </tr>\n",
       "  </tbody>\n",
       "</table>\n",
       "<p>311 rows × 5 columns</p>\n",
       "</div>"
      ],
      "text/plain": [
       "     DDI_ID    DDI_file  skin_tone  malignant  \\\n",
       "160     161  000161.png         56      False   \n",
       "151     152  000152.png         56      False   \n",
       "245     246  000246.png         56      False   \n",
       "178     179  000179.png         56      False   \n",
       "103     104  000104.png         56      False   \n",
       "..      ...         ...        ...        ...   \n",
       "243     244  000244.png         12       True   \n",
       "50       51  000051.png         12      False   \n",
       "358     359  000359.png         12       True   \n",
       "296     297  000297.png         12       True   \n",
       "339     340  000340.png         12      False   \n",
       "\n",
       "                                     disease  \n",
       "160           seborrheic-keratosis-irritated  \n",
       "151                         melanocytic-nevi  \n",
       "245                             neurofibroma  \n",
       "178                           dermatofibroma  \n",
       "103                     seborrheic-keratosis  \n",
       "..                                       ...  \n",
       "243                  squamous-cell-carcinoma  \n",
       "50                          melanocytic-nevi  \n",
       "358  squamous-cell-carcinoma-keratoacanthoma  \n",
       "296          squamous-cell-carcinoma-in-situ  \n",
       "339                         verruca-vulgaris  \n",
       "\n",
       "[311 rows x 5 columns]"
      ]
     },
     "execution_count": 69,
     "metadata": {},
     "output_type": "execute_result"
    }
   ],
   "source": [
    "ddi_demo"
   ]
  },
  {
   "cell_type": "code",
   "execution_count": 72,
   "id": "d59de6bb",
   "metadata": {},
   "outputs": [
    {
     "data": {
      "text/plain": [
       "(34, 5)"
      ]
     },
     "execution_count": 72,
     "metadata": {},
     "output_type": "execute_result"
    }
   ],
   "source": [
    "fst56_demo[fst56_demo.malignant == True].shape"
   ]
  },
  {
   "cell_type": "code",
   "execution_count": 73,
   "id": "9d47d028",
   "metadata": {},
   "outputs": [
    {
     "data": {
      "text/plain": [
       "34"
      ]
     },
     "execution_count": 73,
     "metadata": {},
     "output_type": "execute_result"
    }
   ],
   "source": [
    "34"
   ]
  },
  {
   "cell_type": "code",
   "execution_count": null,
   "id": "40c68473",
   "metadata": {},
   "outputs": [],
   "source": []
  }
 ],
 "metadata": {
  "kernelspec": {
   "display_name": "Python (biasenv)",
   "language": "python",
   "name": "biasenv"
  },
  "language_info": {
   "codemirror_mode": {
    "name": "ipython",
    "version": 3
   },
   "file_extension": ".py",
   "mimetype": "text/x-python",
   "name": "python",
   "nbconvert_exporter": "python",
   "pygments_lexer": "ipython3",
   "version": "3.10.12"
  }
 },
 "nbformat": 4,
 "nbformat_minor": 5
}
